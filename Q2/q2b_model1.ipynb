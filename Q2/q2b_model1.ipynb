{
 "cells": [
  {
   "cell_type": "code",
   "execution_count": 1,
   "metadata": {},
   "outputs": [
    {
     "name": "stderr",
     "output_type": "stream",
     "text": [
      "[nltk_data] Downloading package stopwords to C:\\Users\\Ngomba\n",
      "[nltk_data]     Litombe\\AppData\\Roaming\\nltk_data...\n",
      "[nltk_data]   Package stopwords is already up-to-date!\n",
      "[nltk_data] Downloading package wordnet to C:\\Users\\Ngomba\n",
      "[nltk_data]     Litombe\\AppData\\Roaming\\nltk_data...\n",
      "[nltk_data]   Package wordnet is already up-to-date!\n"
     ]
    }
   ],
   "source": [
    "import numpy as np\n",
    "import pandas as pd\n",
    "tr = pd.read_csv('train2.csv')\n",
    "#te = pd.read_csv('../input/test.csv')\n",
    "from nltk.corpus import stopwords\n",
    "\n",
    "import numpy as np\n",
    "# Downloading stopwords from nltk library.\n",
    "import nltk\n",
    "nltk.download('stopwords')\n",
    "nltk.download('wordnet')\n",
    "stop = stopwords.words('english')\n",
    "tr_test = pd.read_csv('test_without_labels2.csv')"
   ]
  },
  {
   "cell_type": "code",
   "execution_count": 2,
   "metadata": {},
   "outputs": [
    {
     "data": {
      "text/html": [
       "<div>\n",
       "<style scoped>\n",
       "    .dataframe tbody tr th:only-of-type {\n",
       "        vertical-align: middle;\n",
       "    }\n",
       "\n",
       "    .dataframe tbody tr th {\n",
       "        vertical-align: top;\n",
       "    }\n",
       "\n",
       "    .dataframe thead th {\n",
       "        text-align: right;\n",
       "    }\n",
       "</style>\n",
       "<table border=\"1\" class=\"dataframe\">\n",
       "  <thead>\n",
       "    <tr style=\"text-align: right;\">\n",
       "      <th></th>\n",
       "      <th>Id</th>\n",
       "      <th>Question1</th>\n",
       "      <th>Question2</th>\n",
       "    </tr>\n",
       "  </thead>\n",
       "  <tbody>\n",
       "    <tr>\n",
       "      <td>0</td>\n",
       "      <td>283003</td>\n",
       "      <td>What can someone do if they've lost the wirele...</td>\n",
       "      <td>What is the best USB wireless mouse that can b...</td>\n",
       "    </tr>\n",
       "    <tr>\n",
       "      <td>1</td>\n",
       "      <td>283004</td>\n",
       "      <td>Why India need to elect Prime minister?</td>\n",
       "      <td>Is prime minister of India elected or appointed?</td>\n",
       "    </tr>\n",
       "    <tr>\n",
       "      <td>2</td>\n",
       "      <td>283005</td>\n",
       "      <td>How can I make money online with free of cost?</td>\n",
       "      <td>How can I make money online for free?</td>\n",
       "    </tr>\n",
       "    <tr>\n",
       "      <td>3</td>\n",
       "      <td>283006</td>\n",
       "      <td>Does MDMA affect the first and higher order mo...</td>\n",
       "      <td>Do antipsychotics affect the first and higher ...</td>\n",
       "    </tr>\n",
       "    <tr>\n",
       "      <td>4</td>\n",
       "      <td>283007</td>\n",
       "      <td>I am a Saudi National and have \"SR 3 million\" ...</td>\n",
       "      <td>Where should I invest money to get high returns?</td>\n",
       "    </tr>\n",
       "  </tbody>\n",
       "</table>\n",
       "</div>"
      ],
      "text/plain": [
       "       Id                                          Question1  \\\n",
       "0  283003  What can someone do if they've lost the wirele...   \n",
       "1  283004            Why India need to elect Prime minister?   \n",
       "2  283005     How can I make money online with free of cost?   \n",
       "3  283006  Does MDMA affect the first and higher order mo...   \n",
       "4  283007  I am a Saudi National and have \"SR 3 million\" ...   \n",
       "\n",
       "                                           Question2  \n",
       "0  What is the best USB wireless mouse that can b...  \n",
       "1   Is prime minister of India elected or appointed?  \n",
       "2              How can I make money online for free?  \n",
       "3  Do antipsychotics affect the first and higher ...  \n",
       "4   Where should I invest money to get high returns?  "
      ]
     },
     "execution_count": 2,
     "metadata": {},
     "output_type": "execute_result"
    }
   ],
   "source": [
    "tr_test.head(5)"
   ]
  },
  {
   "cell_type": "code",
   "execution_count": 3,
   "metadata": {},
   "outputs": [
    {
     "data": {
      "text/plain": [
       "(121287,)"
      ]
     },
     "execution_count": 3,
     "metadata": {},
     "output_type": "execute_result"
    }
   ],
   "source": [
    "tr_test.Question1.shape"
   ]
  },
  {
   "cell_type": "code",
   "execution_count": 4,
   "metadata": {},
   "outputs": [],
   "source": [
    "def word_match_share(x):\n",
    "    stops = set(stopwords.words('english'))\n",
    "    q1 = x.Question1.fillna(' ').str.lower().str.split()\n",
    "    q2 = x.Question2.fillna(' ').str.lower().str.split()\n",
    "    q1 = q1.map(lambda l : set(l) - stops)\n",
    "    q2 = q2.map(lambda l : set(l) - stops)\n",
    "    q = pd.DataFrame({'q1':q1, 'q2':q2})\n",
    "    q['len_inter'] = q.apply(lambda row : len(row['q1'] & row['q2']), axis=1)\n",
    "    q['len_tot'] = q.q1.map(len) + q.q2.map(len)\n",
    "    return (2 * q.len_inter / q.len_tot).fillna(0)"
   ]
  },
  {
   "cell_type": "code",
   "execution_count": 5,
   "metadata": {},
   "outputs": [],
   "source": [
    "tr['word_share'] = word_match_share(tr)"
   ]
  },
  {
   "cell_type": "code",
   "execution_count": 6,
   "metadata": {},
   "outputs": [],
   "source": [
    "tr_test['word_share'] = word_match_share(tr_test)"
   ]
  },
  {
   "cell_type": "code",
   "execution_count": 8,
   "metadata": {},
   "outputs": [],
   "source": [
    "from sklearn.metrics import confusion_matrix\n",
    "cm = confusion_matrix(tr.IsDuplicate,tr.word_share.round())"
   ]
  },
  {
   "cell_type": "code",
   "execution_count": 7,
   "metadata": {},
   "outputs": [],
   "source": [
    "import xgboost"
   ]
  },
  {
   "cell_type": "code",
   "execution_count": 11,
   "metadata": {},
   "outputs": [],
   "source": [
    "import pandas as pd\n",
    "from nltk.tokenize import word_tokenize\n",
    "#importing dataset\n",
    "dataset = tr\n",
    "dataset= dataset.fillna('')\n",
    "article=pd.concat([dataset['Question1'],dataset['Question2']])\n",
    "article= article.apply(lambda x: \" \".join(x.lower() for x in x.split())) #lowercase\n",
    "article= article.str.replace('[^\\w\\s]','') #remove punctuation\n",
    "article = article.str.replace('\\d+', '') #remove numbers "
   ]
  },
  {
   "cell_type": "code",
   "execution_count": null,
   "metadata": {},
   "outputs": [],
   "source": [
    "#for test set\n",
    "data_test = tr_test\n",
    "data_test= data_test.fillna('')\n",
    "article1=pd.concat([data_test['Question1'],data_test['Question2']])\n",
    "article1= article1.apply(lambda x: \" \".join(x.lower() for x in x.split())) #lowercase\n",
    "article1= article1.str.replace('[^\\w\\s]','') #remove punctuation\n",
    "article1 = article1.str.replace('\\d+', '') #remove numbers \n",
    "#vectors2=vectorizer.transform(article1)"
   ]
  },
  {
   "cell_type": "code",
   "execution_count": 13,
   "metadata": {},
   "outputs": [],
   "source": [
    "from sklearn.feature_extraction.text import TfidfVectorizer\n",
    "vectorizer = TfidfVectorizer(max_features=1000)\n",
    "vectorizer.fit(article)\n",
    "vectors1 = vectorizer.transform(article)\n",
    "vectors2 = vectorizer.transform(article1)"
   ]
  },
  {
   "cell_type": "code",
   "execution_count": 14,
   "metadata": {},
   "outputs": [],
   "source": [
    "from sklearn.metrics.pairwise import cosine_similarity\n",
    "cm=[]\n",
    "for i in range(283004):\n",
    "    cm.append(cosine_similarity(vectors1[i],vectors1[283004+i]))"
   ]
  },
  {
   "cell_type": "code",
   "execution_count": 31,
   "metadata": {},
   "outputs": [],
   "source": [
    "cm_test=[]\n",
    "for i in range(tr_test.shape[0]):\n",
    "    cm_test.append(cosine_similarity(vectors2[i],vectors2[121287+i]))"
   ]
  },
  {
   "cell_type": "code",
   "execution_count": 17,
   "metadata": {},
   "outputs": [],
   "source": [
    "df = pd.DataFrame()\n",
    "df['cos']=[k[0][0] for k in cm]\n",
    "df['word_share']=tr.word_share\n",
    "df1=df.to_numpy()"
   ]
  },
  {
   "cell_type": "code",
   "execution_count": 32,
   "metadata": {},
   "outputs": [],
   "source": [
    "df2 = pd.DataFrame()\n",
    "df2['cos']=[k[0][0] for k in cm_test]\n",
    "df2['word_share']=tr_test.word_share\n",
    "xtest=df2.to_numpy()"
   ]
  },
  {
   "cell_type": "code",
   "execution_count": 30,
   "metadata": {},
   "outputs": [
    {
     "data": {
      "text/plain": [
       "121287"
      ]
     },
     "execution_count": 30,
     "metadata": {},
     "output_type": "execute_result"
    }
   ],
   "source": [
    "tr_test.shape[0]"
   ]
  },
  {
   "cell_type": "code",
   "execution_count": 42,
   "metadata": {},
   "outputs": [
    {
     "name": "stdout",
     "output_type": "stream",
     "text": [
      "              precision    recall  f1-score   support\n",
      "\n",
      "           0       0.85      0.70      0.77     35456\n",
      "           1       0.62      0.80      0.70     21145\n",
      "\n",
      "    accuracy                           0.74     56601\n",
      "   macro avg       0.74      0.75      0.73     56601\n",
      "weighted avg       0.77      0.74      0.74     56601\n",
      "\n",
      "              precision    recall  f1-score   support\n",
      "\n",
      "           0       0.85      0.70      0.77     35675\n",
      "           1       0.61      0.80      0.69     20926\n",
      "\n",
      "    accuracy                           0.74     56601\n",
      "   macro avg       0.73      0.75      0.73     56601\n",
      "weighted avg       0.76      0.74      0.74     56601\n",
      "\n",
      "              precision    recall  f1-score   support\n",
      "\n",
      "           0       0.85      0.70      0.77     35431\n",
      "           1       0.62      0.80      0.70     21170\n",
      "\n",
      "    accuracy                           0.74     56601\n",
      "   macro avg       0.74      0.75      0.73     56601\n",
      "weighted avg       0.77      0.74      0.74     56601\n",
      "\n",
      "              precision    recall  f1-score   support\n",
      "\n",
      "           0       0.85      0.70      0.77     35587\n",
      "           1       0.61      0.80      0.69     21014\n",
      "\n",
      "    accuracy                           0.73     56601\n",
      "   macro avg       0.73      0.75      0.73     56601\n",
      "weighted avg       0.76      0.73      0.74     56601\n",
      "\n",
      "              precision    recall  f1-score   support\n",
      "\n",
      "           0       0.86      0.70      0.77     35732\n",
      "           1       0.61      0.80      0.69     20868\n",
      "\n",
      "    accuracy                           0.74     56600\n",
      "   macro avg       0.73      0.75      0.73     56600\n",
      "weighted avg       0.76      0.74      0.74     56600\n",
      "\n"
     ]
    }
   ],
   "source": [
    "from sklearn.model_selection import KFold\n",
    "from sklearn.metrics import classification_report as clrp\n",
    "kf = KFold(n_splits=5)\n",
    "\n",
    "from xgboost import XGBClassifier\n",
    "classifier2 = XGBClassifier()\n",
    "import numpy as np\n",
    "\n",
    "\n",
    "for train_index, test_index in kf.split(df1,tr.IsDuplicate):\n",
    "    classifier2.fit(df1[train_index],tr.IsDuplicate[train_index])\n",
    "    ypred=classifier2.predict(df1[test_index])\n",
    "    ytestt=tr.IsDuplicate[test_index]\n",
    "    print(clrp(ytestt,ypred))"
   ]
  },
  {
   "cell_type": "code",
   "execution_count": 33,
   "metadata": {},
   "outputs": [],
   "source": [
    "classifier2.fit(df1,tr.IsDuplicate)\n",
    "ypred = classifier2.predict(xtest)"
   ]
  },
  {
   "cell_type": "code",
   "execution_count": 34,
   "metadata": {},
   "outputs": [],
   "source": [
    "naive = pd.DataFrame()\n",
    "naive['Id'] = tr_test['Id']\n",
    "naive['Predicted'] = ypred"
   ]
  },
  {
   "cell_type": "code",
   "execution_count": 89,
   "metadata": {},
   "outputs": [],
   "source": [
    "naive.to_csv('naive.csv',index=False)"
   ]
  }
 ],
 "metadata": {
  "kernelspec": {
   "display_name": "Python 3",
   "language": "python",
   "name": "python3"
  },
  "language_info": {
   "codemirror_mode": {
    "name": "ipython",
    "version": 3
   },
   "file_extension": ".py",
   "mimetype": "text/x-python",
   "name": "python",
   "nbconvert_exporter": "python",
   "pygments_lexer": "ipython3",
   "version": "3.7.4"
  }
 },
 "nbformat": 4,
 "nbformat_minor": 2
}
